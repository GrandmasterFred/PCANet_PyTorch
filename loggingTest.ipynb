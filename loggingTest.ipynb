{
 "cells": [
  {
   "cell_type": "code",
   "execution_count": 1,
   "outputs": [],
   "source": [
    "# make a class that has the logger, as well as the method of printing i guess\n",
    "import logging\n",
    "\n",
    "class MyLogger:\n",
    "    def __init__(self, log_file, log_level=logging.DEBUG):\n",
    "        # Configure logging settings\n",
    "        self.log_file = log_file\n",
    "        self.log_level = log_level\n",
    "        self._configure_logging()\n",
    "\n",
    "    def _configure_logging(self):\n",
    "        logging.basicConfig(filename=self.log_file, level=self.log_level,\n",
    "                            format='%(asctime)s - %(levelname)s - %(message)s')\n",
    "\n",
    "    def log(self, message, level=logging.INFO):\n",
    "        if level == logging.DEBUG:\n",
    "            logging.debug(message)\n",
    "        elif level == logging.INFO:\n",
    "            logging.info(message)\n",
    "        elif level == logging.WARNING:\n",
    "            logging.warning(message)\n",
    "        elif level == logging.ERROR:\n",
    "            logging.error(message)\n",
    "        elif level == logging.CRITICAL:\n",
    "            logging.critical(message)\n",
    "        else:\n",
    "            raise ValueError(\"Invalid log level\")\n",
    "        # this then also prints to console as well\n",
    "        print(message)"
   ],
   "metadata": {
    "collapsed": false,
    "pycharm": {
     "name": "#%%\n"
    }
   }
  },
  {
   "cell_type": "code",
   "execution_count": 2,
   "outputs": [
    {
     "name": "stdout",
     "output_type": "stream",
     "text": [
      "This is an info message.\n",
      "This is a warning message.\n",
      "This is an error message.\n"
     ]
    }
   ],
   "source": [
    "logger = MyLogger(\"my_log.log\")\n",
    "\n",
    "logger.log(\"This is an info message.\", level=logging.INFO)\n",
    "logger.log(\"This is a warning message.\", level=logging.WARNING)\n",
    "logger.log(\"This is an error message.\", level=logging.ERROR)"
   ],
   "metadata": {
    "collapsed": false,
    "pycharm": {
     "name": "#%%\n"
    }
   }
  },
  {
   "cell_type": "code",
   "execution_count": null,
   "outputs": [],
   "source": [],
   "metadata": {
    "collapsed": false,
    "pycharm": {
     "name": "#%%\n"
    }
   }
  }
 ],
 "metadata": {
  "kernelspec": {
   "display_name": "Python 3",
   "language": "python",
   "name": "python3"
  },
  "language_info": {
   "codemirror_mode": {
    "name": "ipython",
    "version": 2
   },
   "file_extension": ".py",
   "mimetype": "text/x-python",
   "name": "python",
   "nbconvert_exporter": "python",
   "pygments_lexer": "ipython2",
   "version": "2.7.6"
  }
 },
 "nbformat": 4,
 "nbformat_minor": 0
}